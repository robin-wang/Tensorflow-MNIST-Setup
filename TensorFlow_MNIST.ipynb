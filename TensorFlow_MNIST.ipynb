{
  "nbformat": 4,
  "nbformat_minor": 0,
  "metadata": {
    "colab": {
      "name": "TensorFlow-MNIST.ipynb",
      "version": "0.3.2",
      "provenance": [],
      "include_colab_link": true
    },
    "kernelspec": {
      "name": "python3",
      "display_name": "Python 3"
    }
  },
  "cells": [
    {
      "cell_type": "markdown",
      "metadata": {
        "id": "view-in-github",
        "colab_type": "text"
      },
      "source": [
        "<a href=\"https://colab.research.google.com/github/robin-wang/Tensorflow-MNIST-Setup/blob/master/TensorFlow_MNIST.ipynb\" target=\"_parent\"><img src=\"https://colab.research.google.com/assets/colab-badge.svg\" alt=\"Open In Colab\"/></a>"
      ]
    },
    {
      "metadata": {
        "id": "qhZKs0irWwqK",
        "colab_type": "text"
      },
      "cell_type": "markdown",
      "source": [
        "**TENSORFLOW TRANING TUTORIAL**"
      ]
    },
    {
      "metadata": {
        "id": "BsblJuvr-FgG",
        "colab_type": "text"
      },
      "cell_type": "markdown",
      "source": [
        "Robin Wang April 2019"
      ]
    },
    {
      "metadata": {
        "id": "COumNupdXoqe",
        "colab_type": "text"
      },
      "cell_type": "markdown",
      "source": [
        "https://www.tensorflow.org/tutorials/keras/basic_classification"
      ]
    },
    {
      "metadata": {
        "id": "ZIRA0OKGXLPR",
        "colab_type": "text"
      },
      "cell_type": "markdown",
      "source": [
        "TensorFlow Module"
      ]
    },
    {
      "metadata": {
        "id": "b96x9o9ltFM4",
        "colab_type": "code",
        "outputId": "8fa0411d-dcbb-4d64-f8a3-b9c0396f86b5",
        "colab": {
          "base_uri": "https://localhost:8080/",
          "height": 34
        }
      },
      "cell_type": "code",
      "source": [
        "#https://www.tensorflow.org/tutorials/keras/basic_classification\n",
        "from __future__ import absolute_import, division, print_function\n",
        "\n",
        "import tensorflow as tf\n",
        "from tensorflow import keras\n",
        "\n",
        "# Numpy and Matplotlib for Visualisation\n",
        "import numpy as np\n",
        "import matplotlib.pyplot as plt\n",
        "\n",
        "# Confirm TensorFlow Version\n",
        "print(tf.__version__)"
      ],
      "execution_count": 0,
      "outputs": [
        {
          "output_type": "stream",
          "text": [
            "1.13.1\n"
          ],
          "name": "stdout"
        }
      ]
    },
    {
      "metadata": {
        "id": "CbwPAJ7nmagN",
        "colab_type": "text"
      },
      "cell_type": "markdown",
      "source": [
        "Data Input"
      ]
    },
    {
      "metadata": {
        "id": "dGuIODCumZqy",
        "colab_type": "code",
        "outputId": "5a2c6688-c034-4f61-cca4-7856f93db0f6",
        "colab": {
          "base_uri": "https://localhost:8080/",
          "height": 34
        }
      },
      "cell_type": "code",
      "source": [
        "mnist_data = tf.keras.datasets.mnist\n",
        "\n",
        "(train_images, train_values),(test_images, test_values) = mnist_data.load_data()\n",
        "#Images are 28X28 NumPy arrays, pixel values ranging between 0 and 255\n",
        "#Values are uint8 type from 0 to 9\n",
        "train_images.shape\n"
      ],
      "execution_count": 0,
      "outputs": [
        {
          "output_type": "execute_result",
          "data": {
            "text/plain": [
              "(60000, 28, 28)"
            ]
          },
          "metadata": {
            "tags": []
          },
          "execution_count": 109
        }
      ]
    },
    {
      "metadata": {
        "id": "rZmnM7jcoGkm",
        "colab_type": "code",
        "outputId": "07917d86-95c6-492e-96b3-15f182604104",
        "colab": {
          "base_uri": "https://localhost:8080/",
          "height": 34
        }
      },
      "cell_type": "code",
      "source": [
        "train_values"
      ],
      "execution_count": 0,
      "outputs": [
        {
          "output_type": "execute_result",
          "data": {
            "text/plain": [
              "array([5, 0, 4, ..., 5, 6, 8], dtype=uint8)"
            ]
          },
          "metadata": {
            "tags": []
          },
          "execution_count": 110
        }
      ]
    },
    {
      "metadata": {
        "id": "Ct_u-M0Eomxr",
        "colab_type": "code",
        "outputId": "61a91dff-984a-41ba-fcc1-754d785da705",
        "colab": {
          "base_uri": "https://localhost:8080/",
          "height": 34
        }
      },
      "cell_type": "code",
      "source": [
        "test_images.shape"
      ],
      "execution_count": 0,
      "outputs": [
        {
          "output_type": "execute_result",
          "data": {
            "text/plain": [
              "(10000, 28, 28)"
            ]
          },
          "metadata": {
            "tags": []
          },
          "execution_count": 111
        }
      ]
    },
    {
      "metadata": {
        "id": "1OsXXC4gotl5",
        "colab_type": "code",
        "outputId": "d264b075-1469-4568-c5ff-29147807403d",
        "colab": {
          "base_uri": "https://localhost:8080/",
          "height": 347
        }
      },
      "cell_type": "code",
      "source": [
        "#Examine training images\n",
        "plt.figure()\n",
        "plt.imshow(train_images[0])\n",
        "plt.colorbar()\n",
        "plt.grid(False)\n",
        "plt.show()"
      ],
      "execution_count": 0,
      "outputs": [
        {
          "output_type": "display_data",
          "data": {
            "image/png": "[encoded data removed]",
            "text/plain": [
              "<Figure size 576x396 with 2 Axes>"
            ]
          },
          "metadata": {
            "tags": []
          }
        }
      ]
    },
    {
      "metadata": {
        "id": "c5_kKTjCo9A4",
        "colab_type": "text"
      },
      "cell_type": "markdown",
      "source": [
        "Data Preparation and Scaling"
      ]
    },
    {
      "metadata": {
        "id": "QkQl5IhQnuh3",
        "colab_type": "code",
        "outputId": "792d7600-2aca-4a32-b80a-c87c10f64672",
        "colab": {
          "base_uri": "https://localhost:8080/",
          "height": 589
        }
      },
      "cell_type": "code",
      "source": [
        "#Normalise 256 units to 1\n",
        "train_images, test_images = train_images / 255.0, test_images / 255.0\n",
        "\n",
        "#Display first images from training set and display class name for naked eye examination\n",
        "plt.figure(figsize=(10,10))\n",
        "for i in range(36):\n",
        "  plt.subplot(6,6,i+1)\n",
        "  plt.xticks([])\n",
        "  plt.yticks([])\n",
        "  plt.grid(False)\n",
        "  plt.imshow(train_images[i],cmap=plt.cm.binary)\n",
        "  plt.xlabel(train_values[i])\n",
        "plt.show()"
      ],
      "execution_count": 0,
      "outputs": [
        {
          "output_type": "display_data",
          "data": {
            "image/png": "[encoded data removed]",
            "text/plain": [
              "<Figure size 720x720 with 36 Axes>"
            ]
          },
          "metadata": {
            "tags": []
          }
        }
      ]
    },
    {
      "metadata": {
        "id": "emp3q2BL04d3",
        "colab_type": "text"
      },
      "cell_type": "markdown",
      "source": [
        "Set up layers"
      ]
    },
    {
      "metadata": {
        "id": "_jJWEjFHpukN",
        "colab_type": "code",
        "colab": {}
      },
      "cell_type": "code",
      "source": [
        "#Flatten layer has no parameters to learn, only reformatting\n",
        "model = tf.keras.models.Sequential([\n",
        "  tf.keras.layers.Flatten(input_shape=(28, 28)),\n",
        "  tf.keras.layers.Dense(512, activation=tf.nn.relu), \n",
        "    #layer has 512 nodes/neurons\n",
        "  tf.keras.layers.Dropout(0.2),\n",
        "  tf.keras.layers.Dense(10, activation=tf.nn.softmax) \n",
        "    #10-node softmax layer, returning an array of 10 probability scores thtat sum to 1\n",
        "])"
      ],
      "execution_count": 0,
      "outputs": []
    },
    {
      "metadata": {
        "id": "-K5TT1Gp1xd3",
        "colab_type": "text"
      },
      "cell_type": "markdown",
      "source": [
        "Model Compiling"
      ]
    },
    {
      "metadata": {
        "id": "2EWRyV2U00t4",
        "colab_type": "code",
        "colab": {}
      },
      "cell_type": "code",
      "source": [
        "# Loss Function - Measuring how accurate the model is\n",
        "# Optimizer - Updating model based on data and loss function\n",
        "# Metrics - monitor training and testing\n",
        "model.compile(optimizer='adam',\n",
        "              loss='sparse_categorical_crossentropy',\n",
        "              metrics=['accuracy'])"
      ],
      "execution_count": 0,
      "outputs": []
    },
    {
      "metadata": {
        "id": "UqlOwx2z2aYO",
        "colab_type": "text"
      },
      "cell_type": "markdown",
      "source": [
        "Model Training"
      ]
    },
    {
      "metadata": {
        "id": "gEqx6V-L2YrQ",
        "colab_type": "code",
        "outputId": "fe7fd7f2-d699-41b5-88b9-ae8df7c03548",
        "colab": {
          "base_uri": "https://localhost:8080/",
          "height": 221
        }
      },
      "cell_type": "code",
      "source": [
        "model.fit(train_images, train_values, epochs=5)\n",
        "model.evaluate(test_images, test_values)\n"
      ],
      "execution_count": 0,
      "outputs": [
        {
          "output_type": "stream",
          "text": [
            "Epoch 1/5\n",
            "60000/60000 [==============================] - 19s 309us/sample - loss: 0.2157 - acc: 0.9360\n",
            "Epoch 2/5\n",
            "60000/60000 [==============================] - 18s 294us/sample - loss: 0.0961 - acc: 0.9708\n",
            "Epoch 3/5\n",
            "60000/60000 [==============================] - 17s 287us/sample - loss: 0.0692 - acc: 0.9781\n",
            "Epoch 4/5\n",
            "60000/60000 [==============================] - 17s 278us/sample - loss: 0.0524 - acc: 0.9829\n",
            "Epoch 5/5\n",
            "60000/60000 [==============================] - 17s 280us/sample - loss: 0.0428 - acc: 0.9863\n",
            "10000/10000 [==============================] - 1s 75us/sample - loss: 0.0595 - acc: 0.9827\n"
          ],
          "name": "stdout"
        },
        {
          "output_type": "execute_result",
          "data": {
            "text/plain": [
              "[0.05952361970787169, 0.9827]"
            ]
          },
          "metadata": {
            "tags": []
          },
          "execution_count": 116
        }
      ]
    },
    {
      "metadata": {
        "id": "1deKvSWW2-U8",
        "colab_type": "text"
      },
      "cell_type": "markdown",
      "source": [
        "Model predictions"
      ]
    },
    {
      "metadata": {
        "id": "Udc2U23C3AEp",
        "colab_type": "code",
        "outputId": "a37e4469-dd81-4448-e9fb-cefa0448571c",
        "colab": {
          "base_uri": "https://localhost:8080/",
          "height": 68
        }
      },
      "cell_type": "code",
      "source": [
        "predictions = model.predict(test_images)\n",
        "predictions[0] #10 number array"
      ],
      "execution_count": 0,
      "outputs": [
        {
          "output_type": "execute_result",
          "data": {
            "text/plain": [
              "array([4.5254508e-10, 7.2929712e-10, 1.0025044e-07, 1.0551009e-05,\n",
              "       6.2649443e-14, 1.2322504e-07, 5.2747262e-14, 9.9998903e-01,\n",
              "       3.5579088e-08, 1.3540607e-07], dtype=float32)"
            ]
          },
          "metadata": {
            "tags": []
          },
          "execution_count": 117
        }
      ]
    },
    {
      "metadata": {
        "id": "03CC6niK35hF",
        "colab_type": "code",
        "outputId": "42f95a76-53a0-4632-b193-9fdf23c689bb",
        "colab": {
          "base_uri": "https://localhost:8080/",
          "height": 34
        }
      },
      "cell_type": "code",
      "source": [
        "np.argmax(predictions[0])"
      ],
      "execution_count": 0,
      "outputs": [
        {
          "output_type": "execute_result",
          "data": {
            "text/plain": [
              "7"
            ]
          },
          "metadata": {
            "tags": []
          },
          "execution_count": 118
        }
      ]
    },
    {
      "metadata": {
        "id": "gIgq1PI14EZE",
        "colab_type": "code",
        "outputId": "fcdd99f7-8aff-4d5e-b7bc-8c88e9e30ce2",
        "colab": {
          "base_uri": "https://localhost:8080/",
          "height": 34
        }
      },
      "cell_type": "code",
      "source": [
        "test_values[0]"
      ],
      "execution_count": 0,
      "outputs": [
        {
          "output_type": "execute_result",
          "data": {
            "text/plain": [
              "7"
            ]
          },
          "metadata": {
            "tags": []
          },
          "execution_count": 119
        }
      ]
    },
    {
      "metadata": {
        "id": "vCAFsJID4MEV",
        "colab_type": "text"
      },
      "cell_type": "markdown",
      "source": [
        "Graphing for 10 channels"
      ]
    },
    {
      "metadata": {
        "id": "viBNEs-44Jgz",
        "colab_type": "code",
        "colab": {}
      },
      "cell_type": "code",
      "source": [
        "def plot_image(i,predictions_array,true_label,img):\n",
        "  predictions_array,true_label,img=predictions_array[i],true_label[i],img[i]\n",
        "  plt.grid(False)\n",
        "  plt.xticks([])\n",
        "  plt.yticks([])\n",
        "  \n",
        "  plt.imshow(img,cmap=plt.cm.binary)\n",
        "  \n",
        "  predicted_label = np.argmax(predictions_array)\n",
        "  if predicted_label == true_label:\n",
        "    color='blue'\n",
        "  else:\n",
        "    color='grey'\n",
        "    \n",
        "    plt.xlabel(\"{} {:2.0f}% ({})\".format(predicted_label,\n",
        "                                   100*np.max(predictions_array),\n",
        "                                   true_label),\n",
        "                                   color=color)\n",
        "      \n",
        "def plot_value_array(i, predictions_array, true_label):\n",
        "  predictions_array, true_label = predictions_array[i], true_label[i]\n",
        "  plt.grid(False)\n",
        "  plt.xticks([])\n",
        "  plt.yticks([])\n",
        "  thisplot = plt.bar(range(10), predictions_array, color=\"#777777\")\n",
        "  plt.ylim([0, 1]) \n",
        "  predicted_label = np.argmax(predictions_array)\n",
        " \n",
        "  thisplot[predicted_label].set_color('red')\n",
        "  thisplot[true_label].set_color('blue')"
      ],
      "execution_count": 0,
      "outputs": []
    },
    {
      "metadata": {
        "id": "UBXeLgcy55Jn",
        "colab_type": "code",
        "outputId": "ba53ece9-a327-45eb-cd62-36f7903bc7d1",
        "colab": {
          "base_uri": "https://localhost:8080/",
          "height": 194
        }
      },
      "cell_type": "code",
      "source": [
        "# test 1\n",
        "i=0\n",
        "plt.figure(figsize=(6,3))\n",
        "plt.subplot(1,2,1)\n",
        "plot_image(i,predictions,test_values,test_images)\n",
        "plt.subplot(1,2,2)\n",
        "plot_value_array(i,predictions,test_values)\n",
        "plt.show()"
      ],
      "execution_count": 0,
      "outputs": [
        {
          "output_type": "display_data",
          "data": {
            "image/png": "[encoded data removed]",
            "text/plain": [
              "<Figure size 432x216 with 2 Axes>"
            ]
          },
          "metadata": {
            "tags": []
          }
        }
      ]
    },
    {
      "metadata": {
        "id": "AqW9JLmM6nT8",
        "colab_type": "code",
        "outputId": "635a2795-82c6-4fd4-cc2c-6bfe6466676c",
        "colab": {
          "base_uri": "https://localhost:8080/",
          "height": 194
        }
      },
      "cell_type": "code",
      "source": [
        "# test 2\n",
        "i=11\n",
        "plt.figure(figsize=(6,3))\n",
        "plt.subplot(1,2,1)\n",
        "plot_image(i,predictions,test_values,test_images)\n",
        "plt.subplot(1,2,2)\n",
        "plot_value_array(i,predictions,test_values)\n",
        "plt.show()"
      ],
      "execution_count": 0,
      "outputs": [
        {
          "output_type": "display_data",
          "data": {
            "image/png": "[encoded data removed]",
            "text/plain": [
              "<Figure size 432x216 with 2 Axes>"
            ]
          },
          "metadata": {
            "tags": []
          }
        }
      ]
    },
    {
      "metadata": {
        "id": "ESzwFo686s2a",
        "colab_type": "code",
        "outputId": "7e1f5a77-f529-4760-b561-a8a3007251b6",
        "colab": {
          "base_uri": "https://localhost:8080/",
          "height": 575
        }
      },
      "cell_type": "code",
      "source": [
        "# plot first test images, predicted values, and true values\n",
        "num_rows = 5\n",
        "num_cols = 3\n",
        "num_images = num_rows*num_cols\n",
        "plt.figure(figsize=(2*2*num_cols,2*num_rows))\n",
        "for i in range(num_images):\n",
        "  plt.subplot(num_rows,2*num_cols,2*i+1)\n",
        "  plot_image(i,predictions,test_values,test_images)\n",
        "  plt.subplot(num_rows,2*num_cols,2*i+2)\n",
        "  plot_value_array(i,predictions,test_values)\n",
        "plt.show()"
      ],
      "execution_count": 0,
      "outputs": [
        {
          "output_type": "display_data",
          "data": {
            "image/png": "[encoded data removed]",
            "text/plain": [
              "<Figure size 864x720 with 30 Axes>"
            ]
          },
          "metadata": {
            "tags": []
          }
        }
      ]
    },
    {
      "metadata": {
        "id": "pKtdZhyA8UnR",
        "colab_type": "code",
        "outputId": "b710bd66-0381-484e-b537-d66d586df169",
        "colab": {
          "base_uri": "https://localhost:8080/",
          "height": 34
        }
      },
      "cell_type": "code",
      "source": [
        "# Take a random image from test data for verification\n",
        "img = test_images[275]\n",
        "print(img.shape)"
      ],
      "execution_count": 0,
      "outputs": [
        {
          "output_type": "stream",
          "text": [
            "(28, 28)\n"
          ],
          "name": "stdout"
        }
      ]
    },
    {
      "metadata": {
        "id": "HWt3cWWW8jmL",
        "colab_type": "code",
        "outputId": "121d31d2-4eb9-4aa9-f577-2425cae4cfa8",
        "colab": {
          "base_uri": "https://localhost:8080/",
          "height": 34
        }
      },
      "cell_type": "code",
      "source": [
        "# Add image to a batch with only one number\n",
        "img = (np.expand_dims(img,0))\n",
        "print(img.shape)"
      ],
      "execution_count": 0,
      "outputs": [
        {
          "output_type": "stream",
          "text": [
            "(1, 28, 28)\n"
          ],
          "name": "stdout"
        }
      ]
    },
    {
      "metadata": {
        "id": "2r0QMroX8q2o",
        "colab_type": "code",
        "outputId": "792f765d-d6ea-464c-aa08-1f6f8dc15ee2",
        "colab": {
          "base_uri": "https://localhost:8080/",
          "height": 51
        }
      },
      "cell_type": "code",
      "source": [
        "# Predict\n",
        "predictions_single = model.predict(img)\n",
        "print(predictions_single)"
      ],
      "execution_count": 0,
      "outputs": [
        {
          "output_type": "stream",
          "text": [
            "[[4.6544376e-14 3.8027814e-12 2.5328229e-11 1.3650140e-11 9.9998820e-01\n",
            "  5.3285487e-10 1.6933324e-12 2.5887144e-07 1.8257092e-11 1.1535511e-05]]\n"
          ],
          "name": "stdout"
        }
      ]
    },
    {
      "metadata": {
        "id": "L2lisha5828p",
        "colab_type": "code",
        "outputId": "ce0cff65-5ecc-4086-996c-88386e902270",
        "colab": {
          "base_uri": "https://localhost:8080/",
          "height": 364
        }
      },
      "cell_type": "code",
      "source": [
        "# Plot\n",
        "plot_value_array(0,predictions_single,test_values)\n",
        "_ = plt.xticks(range(10))\n",
        "np.argmax(predictions_single[0])"
      ],
      "execution_count": 0,
      "outputs": [
        {
          "output_type": "execute_result",
          "data": {
            "text/plain": [
              "4"
            ]
          },
          "metadata": {
            "tags": []
          },
          "execution_count": 127
        },
        {
          "output_type": "display_data",
          "data": {
            "image/png": "[encoded data removed]",
            "text/plain": [
              "<Figure size 576x396 with 1 Axes>"
            ]
          },
          "metadata": {
            "tags": []
          }
        }
      ]
    }
  ]
}