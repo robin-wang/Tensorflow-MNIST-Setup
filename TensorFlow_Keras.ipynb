{
  "nbformat": 4,
  "nbformat_minor": 0,
  "metadata": {
    "colab": {
      "name": "TensorFlow-Keras.ipynb",
      "version": "0.3.2",
      "provenance": [],
      "include_colab_link": true
    },
    "kernelspec": {
      "name": "python3",
      "display_name": "Python 3"
    }
  },
  "cells": [
    {
      "cell_type": "markdown",
      "metadata": {
        "id": "view-in-github",
        "colab_type": "text"
      },
      "source": [
        "<a href=\"https://colab.research.google.com/github/robin-wang/Tensorflow-MNIST-Setup/blob/master/TensorFlow_Keras.ipynb\" target=\"_parent\"><img src=\"https://colab.research.google.com/assets/colab-badge.svg\" alt=\"Open In Colab\"/></a>"
      ]
    },
    {
      "metadata": {
        "id": "qhZKs0irWwqK",
        "colab_type": "text"
      },
      "cell_type": "markdown",
      "source": [
        "**TENSORFLOW - MNIST KERAS**"
      ]
    },
    {
      "metadata": {
        "id": "BsblJuvr-FgG",
        "colab_type": "text"
      },
      "cell_type": "markdown",
      "source": [
        "Robin Wang April 2019"
      ]
    },
    {
      "metadata": {
        "id": "COumNupdXoqe",
        "colab_type": "text"
      },
      "cell_type": "markdown",
      "source": [
        "https://www.tensorflow.org/tutorials/keras/basic_classification\n",
        "\n",
        "https://github.com/keras-team/keras/blob/master/examples/mnist_cnn.py"
      ]
    },
    {
      "metadata": {
        "id": "ZIRA0OKGXLPR",
        "colab_type": "text"
      },
      "cell_type": "markdown",
      "source": [
        "TensorFlow Module"
      ]
    },
    {
      "metadata": {
        "id": "b96x9o9ltFM4",
        "colab_type": "code",
        "outputId": "8f8f6f6d-e602-402b-d850-c61a7e40f246",
        "colab": {
          "base_uri": "https://localhost:8080/",
          "height": 34
        }
      },
      "cell_type": "code",
      "source": [
        "#https://www.tensorflow.org/tutorials/keras/basic_classification\n",
        "from __future__ import absolute_import, division, print_function\n",
        "\n",
        "import tensorflow as tf\n",
        "from tensorflow import keras\n",
        "\n",
        "# Numpy and Matplotlib for Visualisation\n",
        "import numpy as np\n",
        "import matplotlib.pyplot as plt\n",
        "\n",
        "# Confirm TensorFlow Version\n",
        "print(tf.__version__)"
      ],
      "execution_count": 0,
      "outputs": [
        {
          "output_type": "stream",
          "text": [
            "1.13.1\n"
          ],
          "name": "stdout"
        }
      ]
    },
    {
      "metadata": {
        "id": "bHYaU7g_6hBa",
        "colab_type": "code",
        "outputId": "7f3bc317-8f55-4c89-edac-7eec5a2e0ba2",
        "colab": {
          "base_uri": "https://localhost:8080/",
          "height": 34
        }
      },
      "cell_type": "code",
      "source": [
        "#Keras\n",
        "#https://github.com/keras-team/keras/blob/master/examples/mnist_cnn.py\n",
        "import keras\n",
        "from keras.datasets import mnist\n",
        "from keras.models import Sequential\n",
        "from keras.layers import Dense, Dropout, Flatten\n",
        "from keras.layers import Conv2D, MaxPooling2D\n",
        "from keras import backend as K\n",
        "\n",
        "# batch-size\n",
        "batch_size = 128\n",
        "# numbers 10 digits\n",
        "num_classes = 10\n",
        "# iterations\n",
        "epochs = 12\n",
        "\n",
        "# image dimension\n",
        "img_rows,img_cols = 28,28"
      ],
      "execution_count": 0,
      "outputs": [
        {
          "output_type": "stream",
          "text": [
            "Using TensorFlow backend.\n"
          ],
          "name": "stderr"
        }
      ]
    },
    {
      "metadata": {
        "id": "CbwPAJ7nmagN",
        "colab_type": "text"
      },
      "cell_type": "markdown",
      "source": [
        "Data Input"
      ]
    },
    {
      "metadata": {
        "id": "dGuIODCumZqy",
        "colab_type": "code",
        "outputId": "39b61e3a-b908-4a8f-efbe-23864b585ad8",
        "colab": {
          "base_uri": "https://localhost:8080/",
          "height": 68
        }
      },
      "cell_type": "code",
      "source": [
        "# Previous code: mnist_data = tf.keras.datasets.mnist\n",
        "# (train_images, train_values),(test_images, test_values) = mnist_data.load_data()\n",
        "\n",
        "(train_images, train_values),(test_images, test_values) = mnist.load_data()\n",
        "#Images are 28X28 NumPy arrays, pixel values ranging between 0 and 255\n",
        "#Values are uint8 type from 0 to 9\n",
        "train_images.shape\n"
      ],
      "execution_count": 0,
      "outputs": [
        {
          "output_type": "stream",
          "text": [
            "Downloading data from https://s3.amazonaws.com/img-datasets/mnist.npz\n",
            "11493376/11490434 [==============================] - 2s 0us/step\n"
          ],
          "name": "stdout"
        },
        {
          "output_type": "execute_result",
          "data": {
            "text/plain": [
              "(60000, 28, 28)"
            ]
          },
          "metadata": {
            "tags": []
          },
          "execution_count": 3
        }
      ]
    },
    {
      "metadata": {
        "id": "rZmnM7jcoGkm",
        "colab_type": "code",
        "outputId": "4826dad7-5751-45ea-8a62-f23a90f177bf",
        "colab": {
          "base_uri": "https://localhost:8080/",
          "height": 34
        }
      },
      "cell_type": "code",
      "source": [
        "train_values"
      ],
      "execution_count": 0,
      "outputs": [
        {
          "output_type": "execute_result",
          "data": {
            "text/plain": [
              "array([5, 0, 4, ..., 5, 6, 8], dtype=uint8)"
            ]
          },
          "metadata": {
            "tags": []
          },
          "execution_count": 4
        }
      ]
    },
    {
      "metadata": {
        "id": "Ct_u-M0Eomxr",
        "colab_type": "code",
        "outputId": "ecfc2008-5656-4a5f-86ec-b1669f8cd675",
        "colab": {
          "base_uri": "https://localhost:8080/",
          "height": 34
        }
      },
      "cell_type": "code",
      "source": [
        "test_images.shape"
      ],
      "execution_count": 0,
      "outputs": [
        {
          "output_type": "execute_result",
          "data": {
            "text/plain": [
              "(10000, 28, 28)"
            ]
          },
          "metadata": {
            "tags": []
          },
          "execution_count": 5
        }
      ]
    },
    {
      "metadata": {
        "id": "1OsXXC4gotl5",
        "colab_type": "code",
        "outputId": "d537dd67-bc11-4968-ec16-e290cf4386f3",
        "colab": {
          "base_uri": "https://localhost:8080/",
          "height": 269
        }
      },
      "cell_type": "code",
      "source": [
        "#Examine training images\n",
        "plt.figure()\n",
        "plt.imshow(train_images[0])\n",
        "plt.colorbar()\n",
        "plt.grid(False)\n",
        "plt.show()"
      ],
      "execution_count": 0,
      "outputs": [
        {
          "output_type": "display_data",
          "data": {
            "image/png": "[encoded data removed]",
            "text/plain": [
              "<Figure size 432x288 with 2 Axes>"
            ]
          },
          "metadata": {
            "tags": []
          }
        }
      ]
    },
    {
      "metadata": {
        "id": "c5_kKTjCo9A4",
        "colab_type": "text"
      },
      "cell_type": "markdown",
      "source": [
        "Data Preparation and Scaling"
      ]
    },
    {
      "metadata": {
        "id": "t6Vgdu5l8Mec",
        "colab_type": "code",
        "outputId": "2f2fe9f8-b07c-41e5-9a7c-096c281f7a6a",
        "colab": {
          "base_uri": "https://localhost:8080/",
          "height": 68
        }
      },
      "cell_type": "code",
      "source": [
        "if K.image_data_format() == 'channels_first':\n",
        "  train_images = train_images.reshape(train_images.shape[0],1,img_rows,img_cols)\n",
        "  test_images = test_images.reshape(test_images.shape[0],1,img_rows,img_cols)\n",
        "  input_shape = (1,img_rows,img_cols)\n",
        "else:\n",
        "  train_images = train_images.reshape(train_images.shape[0],img_rows,img_cols,1)\n",
        "  test_images = test_images.reshape(test_images.shape[0],img_rows,img_cols,1)\n",
        "  input_shape = (img_rows,img_cols,1)\n",
        "\n",
        "train_images = train_images.astype('float32')\n",
        "test_images = test_images.astype('float32')\n",
        "train_images /= 255\n",
        "test_images /= 255\n",
        "print('train_images shape -',train_images.shape)\n",
        "print(train_images.shape[0],'training samples')\n",
        "print(test_images.shape[0],'testing samples')\n",
        "\n",
        "# Class conversion into binary class matrices\n",
        "train_values = keras.utils.to_categorical(train_values,num_classes)\n",
        "test_values = keras.utils.to_categorical(test_values,num_classes)"
      ],
      "execution_count": 0,
      "outputs": [
        {
          "output_type": "stream",
          "text": [
            "train_images shape - (60000, 28, 28, 1)\n",
            "60000 training samples\n",
            "10000 testing samples\n"
          ],
          "name": "stdout"
        }
      ]
    },
    {
      "metadata": {
        "id": "RzW5n1F_98-P",
        "colab_type": "code",
        "outputId": "eb0be9aa-8012-4801-cd74-2ccc556acfc0",
        "colab": {
          "base_uri": "https://localhost:8080/",
          "height": 649
        }
      },
      "cell_type": "code",
      "source": [
        "# Use Sequential to add layers\n",
        "model = Sequential()\n",
        "  # Convolutional Layers, arguments - https://keras.io/layers/convolutional/\n",
        "model.add(Conv2D(32,kernel_size=(3,3),\n",
        "                    activation='relu',\n",
        "                    input_shape=input_shape))\n",
        "    # Kernel_size - height and width of 2D convolution window\n",
        "    # Activation - Function\n",
        "    # Input Shape - after setting data format as 'channels_first'\n",
        "model.add(Conv2D(64,(3,3), activation=\"relu\"))\n",
        "  # MaxPooling https://keras.io/layers/pooling/\n",
        "    # factors by which to downscale (vertical, horizontal). \n",
        "    # (2, 2) will halve the input in both spatial dimension\n",
        "model.add(MaxPooling2D(pool_size=(2,2)))\n",
        "model.add(Dropout(0.25))\n",
        "model.add(Flatten())\n",
        "  # Densely related NN network\n",
        "model.add(Dense(128,activation='relu'))\n",
        "model.add(Dropout(0.5))\n",
        "model.add(Dense(num_classes,activation='softmax'))\n",
        "  # Loss Function, Optimisers, Metrics to be evaluated\n",
        "model.compile(loss=keras.losses.categorical_crossentropy,\n",
        "              optimizer=keras.optimizers.Adadelta(),\n",
        "              metrics=['accuracy'])\n",
        "\n",
        "model.fit(train_images,train_values,\n",
        "          batch_size=batch_size,\n",
        "          epochs=epochs,\n",
        "          verbose=1,\n",
        "          validation_data=(test_images,test_values))\n",
        "score = model.evaluate(test_images,test_values,verbose=0)\n",
        "print('Test Loss - ',score[0])\n",
        "print('Test Accuracy - ',score[1])"
      ],
      "execution_count": 0,
      "outputs": [
        {
          "output_type": "stream",
          "text": [
            "WARNING:tensorflow:From /usr/local/lib/python3.6/dist-packages/tensorflow/python/framework/op_def_library.py:263: colocate_with (from tensorflow.python.framework.ops) is deprecated and will be removed in a future version.\n",
            "Instructions for updating:\n",
            "Colocations handled automatically by placer.\n",
            "WARNING:tensorflow:From /usr/local/lib/python3.6/dist-packages/keras/backend/tensorflow_backend.py:3445: calling dropout (from tensorflow.python.ops.nn_ops) with keep_prob is deprecated and will be removed in a future version.\n",
            "Instructions for updating:\n",
            "Please use `rate` instead of `keep_prob`. Rate should be set to `rate = 1 - keep_prob`.\n",
            "WARNING:tensorflow:From /usr/local/lib/python3.6/dist-packages/tensorflow/python/ops/math_ops.py:3066: to_int32 (from tensorflow.python.ops.math_ops) is deprecated and will be removed in a future version.\n",
            "Instructions for updating:\n",
            "Use tf.cast instead.\n",
            "Train on 60000 samples, validate on 10000 samples\n",
            "Epoch 1/12\n",
            "60000/60000 [==============================] - 171s 3ms/step - loss: 0.2764 - acc: 0.9150 - val_loss: 0.0596 - val_acc: 0.9802\n",
            "Epoch 2/12\n",
            "60000/60000 [==============================] - 170s 3ms/step - loss: 0.0894 - acc: 0.9730 - val_loss: 0.0435 - val_acc: 0.9852\n",
            "Epoch 3/12\n",
            "60000/60000 [==============================] - 169s 3ms/step - loss: 0.0659 - acc: 0.9800 - val_loss: 0.0361 - val_acc: 0.9873\n",
            "Epoch 4/12\n",
            "60000/60000 [==============================] - 173s 3ms/step - loss: 0.0555 - acc: 0.9836 - val_loss: 0.0323 - val_acc: 0.9881\n",
            "Epoch 5/12\n",
            "60000/60000 [==============================] - 174s 3ms/step - loss: 0.0463 - acc: 0.9860 - val_loss: 0.0306 - val_acc: 0.9893\n",
            "Epoch 6/12\n",
            "60000/60000 [==============================] - 175s 3ms/step - loss: 0.0422 - acc: 0.9871 - val_loss: 0.0299 - val_acc: 0.9891\n",
            "Epoch 7/12\n",
            "60000/60000 [==============================] - 172s 3ms/step - loss: 0.0377 - acc: 0.9886 - val_loss: 0.0275 - val_acc: 0.9904\n",
            "Epoch 8/12\n",
            "60000/60000 [==============================] - 171s 3ms/step - loss: 0.0350 - acc: 0.9891 - val_loss: 0.0307 - val_acc: 0.9901\n",
            "Epoch 9/12\n",
            "60000/60000 [==============================] - 171s 3ms/step - loss: 0.0312 - acc: 0.9908 - val_loss: 0.0265 - val_acc: 0.9916\n",
            "Epoch 10/12\n",
            "60000/60000 [==============================] - 172s 3ms/step - loss: 0.0305 - acc: 0.9906 - val_loss: 0.0275 - val_acc: 0.9907\n",
            "Epoch 11/12\n",
            "60000/60000 [==============================] - 173s 3ms/step - loss: 0.0293 - acc: 0.9911 - val_loss: 0.0282 - val_acc: 0.9912\n",
            "Epoch 12/12\n",
            "60000/60000 [==============================] - 172s 3ms/step - loss: 0.0250 - acc: 0.9924 - val_loss: 0.0263 - val_acc: 0.9911\n",
            "Test Loss -  0.02631362307975196\n",
            "Test Accuracy -  0.9911\n"
          ],
          "name": "stdout"
        }
      ]
    },
    {
      "metadata": {
        "id": "_jJWEjFHpukN",
        "colab_type": "code",
        "colab": {}
      },
      "cell_type": "code",
      "source": [
        ""
      ],
      "execution_count": 0,
      "outputs": []
    },
    {
      "metadata": {
        "id": "nws0vkKxG1nG",
        "colab_type": "text"
      },
      "cell_type": "markdown",
      "source": [
        "The following are codes used previously...\n",
        "\n",
        "Flatten layer has no parameters to learn, only reformatting\n",
        "model = tf.keras.models.Sequential([\n",
        "  tf.keras.layers.Flatten(input_shape=(28, 28)),\n",
        "  tf.keras.layers.Dense(512, activation=tf.nn.relu), \n",
        "    #layer has 512 nodes/neurons\n",
        "  tf.keras.layers.Dropout(0.2),\n",
        "  tf.keras.layers.Dense(10, activation=tf.nn.softmax) \n",
        "    #10-node softmax layer, returning an array of 10 probability scores thtat sum to 1\n",
        "])"
      ]
    },
    {
      "metadata": {
        "id": "gEqx6V-L2YrQ",
        "colab_type": "code",
        "outputId": "cacc1386-be1f-4901-95bd-ca677f728c6a",
        "colab": {
          "base_uri": "https://localhost:8080/",
          "height": 51
        }
      },
      "cell_type": "code",
      "source": [
        "model.evaluate(test_images, test_values)\n"
      ],
      "execution_count": 0,
      "outputs": [
        {
          "output_type": "stream",
          "text": [
            "10000/10000 [==============================] - 8s 813us/step\n"
          ],
          "name": "stdout"
        },
        {
          "output_type": "execute_result",
          "data": {
            "text/plain": [
              "[0.02631362307975196, 0.9911]"
            ]
          },
          "metadata": {
            "tags": []
          },
          "execution_count": 9
        }
      ]
    },
    {
      "metadata": {
        "id": "1deKvSWW2-U8",
        "colab_type": "text"
      },
      "cell_type": "markdown",
      "source": [
        "Model predictions"
      ]
    },
    {
      "metadata": {
        "id": "Udc2U23C3AEp",
        "colab_type": "code",
        "outputId": "8d1abf4d-4cea-4461-c838-f71a6822c6e0",
        "colab": {
          "base_uri": "https://localhost:8080/",
          "height": 68
        }
      },
      "cell_type": "code",
      "source": [
        "predictions = model.predict(test_images)\n",
        "predictions[0] #10 number array"
      ],
      "execution_count": 0,
      "outputs": [
        {
          "output_type": "execute_result",
          "data": {
            "text/plain": [
              "array([2.1564459e-11, 2.5381132e-12, 5.8968741e-10, 1.0997460e-08,\n",
              "       2.3790828e-14, 2.9636332e-12, 1.8389019e-16, 1.0000000e+00,\n",
              "       3.0374356e-11, 6.7975376e-09], dtype=float32)"
            ]
          },
          "metadata": {
            "tags": []
          },
          "execution_count": 10
        }
      ]
    },
    {
      "metadata": {
        "id": "03CC6niK35hF",
        "colab_type": "code",
        "outputId": "e3c8b098-60c6-4b38-b75d-11549e54a4fa",
        "colab": {
          "base_uri": "https://localhost:8080/",
          "height": 34
        }
      },
      "cell_type": "code",
      "source": [
        "np.argmax(predictions[0])"
      ],
      "execution_count": 0,
      "outputs": [
        {
          "output_type": "execute_result",
          "data": {
            "text/plain": [
              "7"
            ]
          },
          "metadata": {
            "tags": []
          },
          "execution_count": 11
        }
      ]
    },
    {
      "metadata": {
        "id": "gIgq1PI14EZE",
        "colab_type": "code",
        "outputId": "e7c99329-9c34-4d5d-f2b4-08fe798607a4",
        "colab": {
          "base_uri": "https://localhost:8080/",
          "height": 34
        }
      },
      "cell_type": "code",
      "source": [
        "test_values[0]"
      ],
      "execution_count": 0,
      "outputs": [
        {
          "output_type": "execute_result",
          "data": {
            "text/plain": [
              "array([0., 0., 0., 0., 0., 0., 0., 1., 0., 0.], dtype=float32)"
            ]
          },
          "metadata": {
            "tags": []
          },
          "execution_count": 12
        }
      ]
    }
  ]
}